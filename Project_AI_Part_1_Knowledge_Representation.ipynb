{
  "cells": [
    {
      "cell_type": "markdown",
      "metadata": {
        "id": "lpE8JPbqmQpe"
      },
      "source": [
        "JSON structure for data"
      ]
    },
    {
      "cell_type": "code",
      "execution_count": null,
      "metadata": {
        "id": "0ahlzTUp4c5w"
      },
      "outputs": [],
      "source": [
        "characters = {\n",
        "    \"sherlock\": {\n",
        "        \"name\": \"Sherlock Holmes\",\n",
        "        \"occupation\": \"detective\",\n",
        "        \"traits\": [\"observant\", \"deductive\", \"ingenious\"]\n",
        "    },\n",
        "    \"watson\": {\n",
        "        \"name\": \"John Watson\",\n",
        "        \"occupation\": \"doctor\",\n",
        "        \"traits\": [\"loyal\", \"curious\", \"narrator\"]\n",
        "    },\n",
        "    \"peterson\": {\n",
        "        \"name\": \"Peterson\",\n",
        "        \"occupation\": \"commissionaire\",\n",
        "        \"traits\": [\"dutiful\", \"confused\"]\n",
        "    },\n",
        "    \"baker\": {\n",
        "        \"name\": \"Henry Baker\",\n",
        "        \"occupation\": \"\",\n",
        "        \"traits\": [\"forgetful\", \"unobservant\"]\n",
        "    },\n",
        "    \"ryder\": {\n",
        "        \"name\": \"John Ryder\",\n",
        "        \"occupation\": \"hotel attendant\",\n",
        "        \"traits\": [\"guilty\", \"desperate\", \"frightened\"]\n",
        "    },\n",
        "    \"breckinridge\": {\n",
        "        \"name\": \"Mr. Breckinridge\",\n",
        "        \"occupation\": \"goose salesman\",\n",
        "        \"traits\": [\"irritable\", \"protective\"]\n",
        "    },\n",
        "    \"oakshott\": {\n",
        "        \"name\": \"Mrs. Oakshott\",\n",
        "        \"occupation\": \"goose farmer\",\n",
        "        \"traits\": [\"helpful\", \"unaware\"]\n",
        "    }\n",
        "}\n",
        "\n",
        "objects = {\n",
        "    \"hat\": {\n",
        "        \"description\": \"dirty old black hat\",\n",
        "        \"owner\": \"baker\",\n",
        "        \"clues\": [\"big size\", \"worn\", \"initials HB\", \"missing elastic\", \"dusty\", \"ink stains\", \"lime-cream residue\"]\n",
        "    },\n",
        "    \"goose\": {\n",
        "        \"description\": \"white goose with black barred tail\",\n",
        "        \"origin\": \"oakshott\",\n",
        "        \"contents\": [\"blue carbuncle\"]\n",
        "    },\n",
        "    \"blue_carbuncle\": {\n",
        "        \"description\": \"precious stone\",\n",
        "        \"owner\": \"countess of morcar\",\n",
        "        \"stolen\": True,\n",
        "        \"recovered\": True\n",
        "    }\n",
        "}\n",
        "\n",
        "locations = {\n",
        "    \"221b baker street\": {\n",
        "        \"description\": \"Sherlock's residence\",\n",
        "        \"events\": [\"initial investigation\", \"baker arrives\", \"ryder arrives\", \"conclusion\"]\n",
        "    },\n",
        "    \"hotel cosmopolitan\": {\n",
        "        \"description\": \"Luxury hotel\",\n",
        "        \"events\": [\"theft of blue carbuncle\", \"ryder calls police\"]\n",
        "    },\n",
        "    \"alpha inn\": {\n",
        "        \"description\": \"Pub with goose club\",\n",
        "        \"events\": [\"baker receives goose\"]\n",
        "    },\n",
        "    \"covent garden\": {\n",
        "        \"description\": \"Market\",\n",
        "        \"events\": [\"baker buys goose\", \"sherlock visits breckinridge\"]\n",
        "    },\n",
        "    \"brixton road\": {\n",
        "        \"description\": \"Oakshott's residence\",\n",
        "        \"events\": [\"ryder hides carbuncle in goose\"]\n",
        "    }\n",
        "}\n",
        "\n",
        "plot = [\n",
        "\n",
        "    {\"characters\": [\"sherlock\", \"watson\"], \"location\": \"221b baker street\", \"event\": \"sherlock examines hat\"},\n",
        "    {\"characters\": [\"sherlock\", \"watson\"], \"location\": \"221b baker street\", \"event\": \"sherlock deduces hat owner\"},\n",
        "    {\"characters\": [\"sherlock\", \"watson\"], \"location\": \"221b baker street\", \"event\": \"peterson arrives with goose\"},\n",
        "    {\"characters\": [\"sherlock\"], \"location\": \"221b baker street\", \"event\": \"sherlock discovers blue carbuncle in goose\"},\n",
        "    {\"characters\": [\"sherlock\", \"watson\"], \"location\": \"newspaper\", \"event\": \"sherlock reads about theft\"},\n",
        "    {\"characters\": [\"sherlock\", \"baker\"], \"location\": \"221b baker street\", \"event\": \"baker arrives for hat and goose\"},\n",
        "    {\"characters\": [\"sherlock\", \"watson\"], \"location\": \"221b baker street\", \"event\": \"sherlock places advertisement\"},\n",
        "    {\"characters\": [\"sherlock\", \"ryder\"], \"location\": \"221b baker street\", \"event\": \"ryder arrives for goose\"},\n",
        "    {\"characters\": [\"sherlock\", \"watson\"], \"location\": \"alpha inn\", \"event\": \"sherlock investigates goose origin\"},\n",
        "    {\"characters\": [\"sherlock\", \"watson\"], \"location\": \"covent\"}\n",
        "]\n",
        "\n"
      ]
    },
    {
      "cell_type": "markdown",
      "metadata": {
        "id": "knKzqNQqmcJz"
      },
      "source": [
        "Predicates"
      ]
    },
    {
      "cell_type": "code",
      "execution_count": null,
      "metadata": {
        "id": "nh9TliD64l-2"
      },
      "outputs": [],
      "source": [
        "\n",
        "def is_suspect(character):\n",
        "    return character in [\"ryder\", \"horner\"]\n",
        "\n",
        "def is_owner(item, character):\n",
        "    return objects[item][\"owner\"] == character\n",
        "\n",
        "def has_item(character, item):\n",
        "    return \"contents\" in objects[item] and character in objects[item][\"contents\"]\n",
        "\n",
        "def occurred_before(event1, event2):\n",
        "    return locations[event1][\"events\"].index(event1) < locations[event2][\"events\"].index(event2)\n",
        "\n",
        "def is_stolen(item):\n",
        "    return \"stolen\" in objects[item] and objects[item][\"stolen\"]\n",
        "\n",
        "def is_recovered(item):\n",
        "    return \"recovered\" in objects[item] and objects[item][\"recovered\"]\n",
        "\n",
        "def is_character_in_location(character, location):\n",
        "    return \"characters\" in plot[location] and character in plot[location][\"characters\"]\n",
        "\n",
        "def is_character_present_in_event(character, event):\n",
        "    for location in locations:\n",
        "        if event in locations[location][\"events\"]:\n",
        "            return is_character_in_location(character, location)\n",
        "    return False\n",
        "\n"
      ]
    },
    {
      "cell_type": "markdown",
      "metadata": {
        "id": "qp7puEC3mhBg"
      },
      "source": [
        "Rules"
      ]
    },
    {
      "cell_type": "code",
      "execution_count": null,
      "metadata": {
        "id": "NxsyT5wT7XPO"
      },
      "outputs": [],
      "source": [
        "\n",
        "def is_suspicious(character):\n",
        "    return is_suspect(character) or is_owner(\"blue_carbuncle\", character)\n",
        "\n",
        "def is_innocent(character):\n",
        "    return not is_suspicious(character)\n",
        "\n",
        "def is_connected(character1, character2):\n",
        "    return occurred_before(\"ryder arrives\", \"ryder leaves\") and is_character_present_in_event(character1, \"ryder arrives\") and is_character_present_in_event(character2, \"ryder leaves\")\n",
        "\n",
        "def is_liar(character):\n",
        "    return is_suspect(character) and not is_recovered(\"blue_carbuncle\")\n",
        "\n",
        "def is_truthful(character):\n",
        "    return not is_liar(character)\n",
        "\n",
        "def is_involved(character):\n",
        "    return is_liar(character) or has_item(character, \"blue_carbuncle\")\n",
        "\n",
        "def is_innocent_owner(character):\n",
        "    return is_owner(\"blue_carbuncle\", character) and is_recovered(\"blue_carbuncle\")\n",
        "\n",
        "\n"
      ]
    },
    {
      "cell_type": "markdown",
      "metadata": {
        "id": "j_hTK3Jumj9z"
      },
      "source": [
        "Importing necessary libraries"
      ]
    },
    {
      "cell_type": "code",
      "execution_count": null,
      "metadata": {
        "id": "TpA5nF9wDFDg"
      },
      "outputs": [],
      "source": [
        "import nltk\n",
        "from nltk.tokenize import word_tokenize\n",
        "from nltk.corpus import wordnet\n",
        "from nltk.chunk import ne_chunk\n",
        "from nltk.stem import WordNetLemmatizer, PorterStemmer\n",
        "from nltk import pos_tag\n"
      ]
    },
    {
      "cell_type": "code",
      "execution_count": null,
      "metadata": {
        "colab": {
          "base_uri": "https://localhost:8080/"
        },
        "id": "wn783awt6y3Z",
        "outputId": "9d14637e-374b-4018-b6c8-21680e2c1aae"
      },
      "outputs": [
        {
          "name": "stderr",
          "output_type": "stream",
          "text": [
            "[nltk_data] Downloading package averaged_perceptron_tagger to\n",
            "[nltk_data]     /root/nltk_data...\n",
            "[nltk_data]   Package averaged_perceptron_tagger is already up-to-\n",
            "[nltk_data]       date!\n",
            "[nltk_data] Downloading package maxent_ne_chunker to\n",
            "[nltk_data]     /root/nltk_data...\n",
            "[nltk_data]   Package maxent_ne_chunker is already up-to-date!\n",
            "[nltk_data] Downloading package words to /root/nltk_data...\n",
            "[nltk_data]   Package words is already up-to-date!\n",
            "[nltk_data] Downloading package punkt to /root/nltk_data...\n",
            "[nltk_data]   Package punkt is already up-to-date!\n",
            "[nltk_data] Downloading package wordnet to /root/nltk_data...\n",
            "[nltk_data]   Package wordnet is already up-to-date!\n"
          ]
        },
        {
          "data": {
            "text/plain": [
              "True"
            ]
          },
          "execution_count": 19,
          "metadata": {},
          "output_type": "execute_result"
        }
      ],
      "source": [
        "nltk.download('averaged_perceptron_tagger')\n",
        "nltk.download('maxent_ne_chunker')\n",
        "nltk.download('words')\n",
        "nltk.download('punkt')\n",
        "nltk.download('wordnet')"
      ]
    },
    {
      "cell_type": "code",
      "execution_count": null,
      "metadata": {
        "id": "KAgnYksx7DhA"
      },
      "outputs": [],
      "source": [
        "# Initializing lemmatizer and stemmer\n",
        "lemmatizer = WordNetLemmatizer()\n",
        "stemmer = PorterStemmer()"
      ]
    },
    {
      "cell_type": "markdown",
      "metadata": {
        "id": "A7jDKc6fm-js"
      },
      "source": [
        "Function for preprocessing tokens using lemmatization and stemming"
      ]
    },
    {
      "cell_type": "code",
      "execution_count": null,
      "metadata": {
        "id": "5kK9uvXk7Q2I"
      },
      "outputs": [],
      "source": [
        "def preprocess_tokens(tokens):\n",
        "    lemmatized_tokens = [lemmatizer.lemmatize(token) for token in tokens]\n",
        "    stemmed_tokens = [stemmer.stem(token) for token in lemmatized_tokens]\n",
        "    return stemmed_tokens\n",
        "\n",
        "def match_pattern(tokens, pattern):\n",
        "    return all(word in tokens for word in pattern)"
      ]
    },
    {
      "cell_type": "markdown",
      "metadata": {
        "id": "juFK-K56nTbr"
      },
      "source": [
        "Functions for handling questions"
      ]
    },
    {
      "cell_type": "code",
      "execution_count": null,
      "metadata": {
        "id": "Ll9QZw2f7cXc"
      },
      "outputs": [],
      "source": [
        "def answer_who_stole_diamond():\n",
        "    for character in characters:\n",
        "        if is_suspect(character):\n",
        "            return f\"{characters[character]['name']} is suspected of stealing the blue carbuncle.\"\n",
        "    return \"The thief's identity is still under investigation.\"\n",
        "\n",
        "def answer_how_did_they_steal_it():\n",
        "    if is_recovered(\"blue_carbuncle\"):\n",
        "        return \"The blue carbuncle was recovered, so how it was stolen is now known. As Sherlock discovered, John Ryder and Catherine Cusack broke into the Countess' room and framed Horner for the theft.\"\n",
        "    elif is_suspect(\"ryder\"):\n",
        "        return \"John Ryder and Catherine Cusack broke into the Countess' room and framed Horner for the theft.\"\n",
        "    else:\n",
        "        return \"The method of theft is still being investigated.\"\n",
        "\n",
        "def answer_where_is_diamond():\n",
        "    if is_stolen(\"blue_carbuncle\") and not is_recovered(\"blue_carbuncle\"):\n",
        "        return \"The blue carbuncle is missing and its location is currently unknown.\"\n",
        "    elif is_recovered(\"blue_carbuncle\"):\n",
        "        return \"The blue carbuncle has been recovered and is now safe.\"\n",
        "    else:\n",
        "        return \"The current location of the blue carbuncle is uncertain.\"\n",
        "\n"
      ]
    },
    {
      "cell_type": "code",
      "execution_count": null,
      "metadata": {
        "id": "9H4REMSxnb2_"
      },
      "outputs": [],
      "source": [
        "def answer_what_are_traits(character):\n",
        "    if character in characters:\n",
        "        return f\"{characters[character]['name']} is known for being {', '.join(characters[character]['traits'])}.\"\n",
        "    else:\n",
        "        return \"Character not found.\"\n",
        "\n",
        "def answer_what_is_occupation(character):\n",
        "    if character in characters:\n",
        "        return f\"{characters[character]['name']} works as a {characters[character]['occupation']}.\"\n",
        "    else:\n",
        "        return \"Character not found.\"\n",
        "\n",
        "def answer_describe_character(character):\n",
        "    return describe_character(character)\n",
        "\n",
        "def describe_character(character):\n",
        "    if character in characters:\n",
        "        description = characters[character]['name'] + \" is \"\n",
        "        if characters[character]['occupation']:\n",
        "            description += \"a \" + characters[character]['occupation'] + \" \"\n",
        "        description += \"and known for being \" + \", \".join(characters[character]['traits']) + \".\"\n",
        "        return description\n",
        "    else:\n",
        "        return \"Character not found.\"\n",
        "\n"
      ]
    },
    {
      "cell_type": "code",
      "execution_count": null,
      "metadata": {
        "id": "grEGOcPuntTT"
      },
      "outputs": [],
      "source": [
        "def preprocess_question(question):\n",
        "    question = question.lower().replace(\"?\", \"\")  # Convert to lowercase and remove question mark\n",
        "    tokens = word_tokenize(question)  # Tokenize the question\n",
        "    return tokens\n",
        "\n",
        "# Extracting entities using NLTK's named entity recognition (NER)\n",
        "def extract_entities(tokens):\n",
        "    entities = ne_chunk(nltk.pos_tag(tokens))\n",
        "    # Extracting named entities (PERSON, ORGANIZATION, GPE, etc.)\n",
        "    names = [entity for entity in entities if isinstance(entity, nltk.Tree) and entity.label() == 'PERSON']\n",
        "    return [name[0] for name in names]  # Extracting the names only\n",
        "\n",
        "# Function for finding synonyms and related words using NLTK's WordNet\n",
        "def find_synonyms(word):\n",
        "    synonyms = set()\n",
        "    for synset in wordnet.synsets(word):\n",
        "        for lemma in synset.lemmas():\n",
        "            synonyms.add(lemma.name())\n",
        "    return synonyms\n",
        "\n"
      ]
    },
    {
      "cell_type": "code",
      "execution_count": null,
      "metadata": {
        "id": "gG3XvIbZn1oq"
      },
      "outputs": [],
      "source": [
        "def match_pattern(tokens, pattern):\n",
        "    return all(word in tokens for word in pattern)\n",
        "\n",
        "def extract_character(tokens):\n",
        "    characters = set(characters.keys())\n",
        "    relevant_tokens = [token for token in tokens if token in characters]\n",
        "    if relevant_tokens:\n",
        "        return relevant_tokens[0]\n",
        "    else:\n",
        "        return None\n"
      ]
    },
    {
      "cell_type": "markdown",
      "metadata": {
        "id": "wNxwtec5omXt"
      },
      "source": [
        "CHATBOT"
      ]
    },
    {
      "cell_type": "code",
      "execution_count": null,
      "metadata": {
        "id": "8lpv4kQooVQy"
      },
      "outputs": [],
      "source": [
        "def chatbot(question):\n",
        "    tokens = preprocess_question(question)\n",
        "    entities = extract_entities(tokens)\n",
        "    print(\"Preprocessed tokens:\", tokens)\n",
        "\n",
        "    if \"who stole the diamond\" in question:\n",
        "        return answer_who_stole_diamond()\n",
        "    if \"how did they steal it\" in question:\n",
        "        return answer_how_did_they_steal_it()\n",
        "    if \"where is the diamond\" in question:\n",
        "        return answer_where_is_diamond()\n",
        "    if \"describe\" in tokens:\n",
        "        character_index = tokens.index(\"describe\") + 1\n",
        "        if character_index < len(tokens):\n",
        "            character = tokens[character_index]\n",
        "            return answer_describe_character(character)\n",
        "\n",
        "    if \"traits\" in tokens and \"of\" in tokens:\n",
        "        of_index = tokens.index(\"of\")\n",
        "        if of_index < len(tokens) - 1:\n",
        "            character = tokens[of_index + 1]\n",
        "            return answer_what_are_traits(character)\n",
        "\n",
        "    if \"occupation\" in tokens and \"of\" in tokens:\n",
        "        occupation_index = tokens.index(\"occupation\")\n",
        "        character_index = occupation_index + 1\n",
        "        if \"of\" in tokens[occupation_index:]:\n",
        "            character_index = tokens.index(\"of\", occupation_index)\n",
        "        if character_index < len(tokens) - 1:\n",
        "            character_index += 1\n",
        "            character = tokens[character_index]\n",
        "            return answer_what_is_occupation(character)\n",
        "    else:\n",
        "      return \"Sorry, I didn't learn that yet\""
      ]
    },
    {
      "cell_type": "code",
      "execution_count": null,
      "metadata": {
        "colab": {
          "background_save": true,
          "base_uri": "https://localhost:8080/"
        },
        "id": "TRYdakoK7iye",
        "outputId": "d74d5c2c-f301-4c91-d590-07d061b242e1"
      },
      "outputs": [
        {
          "name": "stdout",
          "output_type": "stream",
          "text": [
            "Welcome to the Sherlock Holmes Chatbot!\n",
            "Ask me anything about the story, and I'll do my best to answer.\n",
            "Preprocessed tokens: ['describe', 'sherlock']\n",
            "Sherlock Holmes Chatbot: Sherlock Holmes is a detective and known for being observant, deductive, ingenious.\n",
            "Preprocessed tokens: ['waht', 'are', 'the', 'traits', 'of', 'watson']\n",
            "Sherlock Holmes Chatbot: John Watson is known for being loyal, curious, narrator.\n",
            "Preprocessed tokens: ['who', 'stole', 'the', 'diamond']\n",
            "Sherlock Holmes Chatbot: John Ryder is suspected of stealing the blue carbuncle.\n",
            "Preprocessed tokens: ['what', 'is', 'the', 'occupation', 'of', 'ryder']\n",
            "Sherlock Holmes Chatbot: John Ryder works as a hotel attendant.\n",
            "Preprocessed tokens: ['how', 'did', 'they', 'steal', 'it']\n",
            "Sherlock Holmes Chatbot: The blue carbuncle was recovered, so how it was stolen is now known. As Sherlock discovered, John Ryder and Catherine Cusack broke into the Countess' room and framed Horner for the theft.\n"
          ]
        }
      ],
      "source": [
        "def main():\n",
        "    print(\"Welcome to the Sherlock Holmes Chatbot!\")\n",
        "    print(\"Ask me anything about the story, and I'll do my best to answer.\")\n",
        "\n",
        "    while True:\n",
        "        question = input(\"Your question: \").lower()\n",
        "        if question == \"exit\":\n",
        "            print(\"Goodbye!\")\n",
        "            break\n",
        "        response = chatbot(question)\n",
        "        print(\"Sherlock Holmes Chatbot:\", response)\n",
        "\n",
        "if __name__ == \"__main__\":\n",
        "    main()"
      ]
    },
    {
      "cell_type": "code",
      "execution_count": null,
      "metadata": {
        "id": "2gdBXYyHDTGD"
      },
      "outputs": [],
      "source": []
    }
  ],
  "metadata": {
    "colab": {
      "provenance": []
    },
    "kernelspec": {
      "display_name": "Python 3",
      "name": "python3"
    },
    "language_info": {
      "name": "python"
    }
  },
  "nbformat": 4,
  "nbformat_minor": 0
}